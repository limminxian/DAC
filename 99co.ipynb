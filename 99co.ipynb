{
  "cells": [
    {
      "cell_type": "markdown",
      "metadata": {
        "id": "view-in-github",
        "colab_type": "text"
      },
      "source": [
        "<a href=\"https://colab.research.google.com/github/limminxian/DAC/blob/main/99co.ipynb\" target=\"_parent\"><img src=\"https://colab.research.google.com/assets/colab-badge.svg\" alt=\"Open In Colab\"/></a>"
      ]
    },
    {
      "cell_type": "code",
      "execution_count": 2,
      "metadata": {
        "colab": {
          "base_uri": "https://localhost:8080/"
        },
        "id": "NVjGwc0Wa2Qq",
        "outputId": "f55830d2-c361-47c6-d2d9-23364b34942e"
      },
      "outputs": [
        {
          "output_type": "stream",
          "name": "stdout",
          "text": [
            "Requirement already satisfied: bs4 in /usr/local/lib/python3.7/dist-packages (0.0.1)\n",
            "Collecting selenium\n",
            "  Downloading selenium-4.1.0-py3-none-any.whl (958 kB)\n",
            "\u001b[K     |████████████████████████████████| 958 kB 7.7 MB/s \n",
            "\u001b[?25hRequirement already satisfied: beautifulsoup4 in /usr/local/lib/python3.7/dist-packages (from bs4) (4.6.3)\n",
            "Collecting trio~=0.17\n",
            "  Downloading trio-0.19.0-py3-none-any.whl (356 kB)\n",
            "\u001b[K     |████████████████████████████████| 356 kB 33.4 MB/s \n",
            "\u001b[?25hCollecting trio-websocket~=0.9\n",
            "  Downloading trio_websocket-0.9.2-py3-none-any.whl (16 kB)\n",
            "Collecting urllib3[secure]~=1.26\n",
            "  Downloading urllib3-1.26.8-py2.py3-none-any.whl (138 kB)\n",
            "\u001b[K     |████████████████████████████████| 138 kB 35.3 MB/s \n",
            "\u001b[?25hCollecting sniffio\n",
            "  Downloading sniffio-1.2.0-py3-none-any.whl (10 kB)\n",
            "Requirement already satisfied: attrs>=19.2.0 in /usr/local/lib/python3.7/dist-packages (from trio~=0.17->selenium) (21.4.0)\n",
            "Requirement already satisfied: idna in /usr/local/lib/python3.7/dist-packages (from trio~=0.17->selenium) (2.10)\n",
            "Requirement already satisfied: sortedcontainers in /usr/local/lib/python3.7/dist-packages (from trio~=0.17->selenium) (2.4.0)\n",
            "Collecting outcome\n",
            "  Downloading outcome-1.1.0-py2.py3-none-any.whl (9.7 kB)\n",
            "Collecting async-generator>=1.9\n",
            "  Downloading async_generator-1.10-py3-none-any.whl (18 kB)\n",
            "Collecting wsproto>=0.14\n",
            "  Downloading wsproto-1.0.0-py3-none-any.whl (24 kB)\n",
            "Collecting cryptography>=1.3.4\n",
            "  Downloading cryptography-36.0.1-cp36-abi3-manylinux_2_24_x86_64.whl (3.6 MB)\n",
            "\u001b[K     |████████████████████████████████| 3.6 MB 15.3 MB/s \n",
            "\u001b[?25hCollecting pyOpenSSL>=0.14\n",
            "  Downloading pyOpenSSL-22.0.0-py2.py3-none-any.whl (55 kB)\n",
            "\u001b[K     |████████████████████████████████| 55 kB 3.2 MB/s \n",
            "\u001b[?25hRequirement already satisfied: certifi in /usr/local/lib/python3.7/dist-packages (from urllib3[secure]~=1.26->selenium) (2021.10.8)\n",
            "Requirement already satisfied: cffi>=1.12 in /usr/local/lib/python3.7/dist-packages (from cryptography>=1.3.4->urllib3[secure]~=1.26->selenium) (1.15.0)\n",
            "Requirement already satisfied: pycparser in /usr/local/lib/python3.7/dist-packages (from cffi>=1.12->cryptography>=1.3.4->urllib3[secure]~=1.26->selenium) (2.21)\n",
            "Collecting h11<1,>=0.9.0\n",
            "  Downloading h11-0.13.0-py3-none-any.whl (58 kB)\n",
            "\u001b[K     |████████████████████████████████| 58 kB 4.4 MB/s \n",
            "\u001b[?25hRequirement already satisfied: typing-extensions in /usr/local/lib/python3.7/dist-packages (from h11<1,>=0.9.0->wsproto>=0.14->trio-websocket~=0.9->selenium) (3.10.0.2)\n",
            "Installing collected packages: sniffio, outcome, h11, cryptography, async-generator, wsproto, urllib3, trio, pyOpenSSL, trio-websocket, selenium\n",
            "  Attempting uninstall: urllib3\n",
            "    Found existing installation: urllib3 1.24.3\n",
            "    Uninstalling urllib3-1.24.3:\n",
            "      Successfully uninstalled urllib3-1.24.3\n",
            "\u001b[31mERROR: pip's dependency resolver does not currently take into account all the packages that are installed. This behaviour is the source of the following dependency conflicts.\n",
            "requests 2.23.0 requires urllib3!=1.25.0,!=1.25.1,<1.26,>=1.21.1, but you have urllib3 1.26.8 which is incompatible.\n",
            "datascience 0.10.6 requires folium==0.2.1, but you have folium 0.8.3 which is incompatible.\u001b[0m\n",
            "Successfully installed async-generator-1.10 cryptography-36.0.1 h11-0.13.0 outcome-1.1.0 pyOpenSSL-22.0.0 selenium-4.1.0 sniffio-1.2.0 trio-0.19.0 trio-websocket-0.9.2 urllib3-1.26.8 wsproto-1.0.0\n"
          ]
        }
      ],
      "source": [
        "pip install bs4 selenium"
      ]
    },
    {
      "cell_type": "code",
      "execution_count": 3,
      "metadata": {
        "colab": {
          "base_uri": "https://localhost:8080/"
        },
        "id": "FjRBTFqZa4SP",
        "outputId": "1a27343c-cbb4-48e5-a91a-ced6e0b86d17"
      },
      "outputs": [
        {
          "output_type": "stream",
          "name": "stdout",
          "text": [
            "Collecting webdriver-manager\n",
            "  Downloading webdriver_manager-3.5.2-py2.py3-none-any.whl (17 kB)\n",
            "Requirement already satisfied: requests in /usr/local/lib/python3.7/dist-packages (from webdriver-manager) (2.23.0)\n",
            "Collecting configparser\n",
            "  Downloading configparser-5.2.0-py3-none-any.whl (19 kB)\n",
            "Collecting crayons\n",
            "  Downloading crayons-0.4.0-py2.py3-none-any.whl (4.6 kB)\n",
            "Collecting colorama\n",
            "  Downloading colorama-0.4.4-py2.py3-none-any.whl (16 kB)\n",
            "Requirement already satisfied: chardet<4,>=3.0.2 in /usr/local/lib/python3.7/dist-packages (from requests->webdriver-manager) (3.0.4)\n",
            "Requirement already satisfied: idna<3,>=2.5 in /usr/local/lib/python3.7/dist-packages (from requests->webdriver-manager) (2.10)\n",
            "Collecting urllib3!=1.25.0,!=1.25.1,<1.26,>=1.21.1\n",
            "  Downloading urllib3-1.25.11-py2.py3-none-any.whl (127 kB)\n",
            "\u001b[K     |████████████████████████████████| 127 kB 13.0 MB/s \n",
            "\u001b[?25hRequirement already satisfied: certifi>=2017.4.17 in /usr/local/lib/python3.7/dist-packages (from requests->webdriver-manager) (2021.10.8)\n",
            "Installing collected packages: urllib3, colorama, crayons, configparser, webdriver-manager\n",
            "  Attempting uninstall: urllib3\n",
            "    Found existing installation: urllib3 1.26.8\n",
            "    Uninstalling urllib3-1.26.8:\n",
            "      Successfully uninstalled urllib3-1.26.8\n",
            "\u001b[31mERROR: pip's dependency resolver does not currently take into account all the packages that are installed. This behaviour is the source of the following dependency conflicts.\n",
            "selenium 4.1.0 requires urllib3[secure]~=1.26, but you have urllib3 1.25.11 which is incompatible.\n",
            "datascience 0.10.6 requires folium==0.2.1, but you have folium 0.8.3 which is incompatible.\u001b[0m\n",
            "Successfully installed colorama-0.4.4 configparser-5.2.0 crayons-0.4.0 urllib3-1.25.11 webdriver-manager-3.5.2\n"
          ]
        }
      ],
      "source": [
        "pip install webdriver-manager"
      ]
    },
    {
      "cell_type": "code",
      "execution_count": 4,
      "metadata": {
        "colab": {
          "base_uri": "https://localhost:8080/"
        },
        "id": "C6vD-mBUa6wO",
        "outputId": "450daf2b-eced-4732-8bc5-702752637be3"
      },
      "outputs": [
        {
          "output_type": "stream",
          "name": "stdout",
          "text": [
            "Requirement already satisfied: requests in /usr/local/lib/python3.7/dist-packages (2.23.0)\n",
            "Collecting requests\n",
            "  Downloading requests-2.27.1-py2.py3-none-any.whl (63 kB)\n",
            "\u001b[K     |████████████████████████████████| 63 kB 1.3 MB/s \n",
            "\u001b[?25hRequirement already satisfied: urllib3<1.27,>=1.21.1 in /usr/local/lib/python3.7/dist-packages (from requests) (1.25.11)\n",
            "Requirement already satisfied: certifi>=2017.4.17 in /usr/local/lib/python3.7/dist-packages (from requests) (2021.10.8)\n",
            "Requirement already satisfied: charset-normalizer~=2.0.0 in /usr/local/lib/python3.7/dist-packages (from requests) (2.0.11)\n",
            "Requirement already satisfied: idna<4,>=2.5 in /usr/local/lib/python3.7/dist-packages (from requests) (2.10)\n",
            "Installing collected packages: requests\n",
            "  Attempting uninstall: requests\n",
            "    Found existing installation: requests 2.23.0\n",
            "    Uninstalling requests-2.23.0:\n",
            "      Successfully uninstalled requests-2.23.0\n",
            "\u001b[31mERROR: pip's dependency resolver does not currently take into account all the packages that are installed. This behaviour is the source of the following dependency conflicts.\n",
            "google-colab 1.0.0 requires requests~=2.23.0, but you have requests 2.27.1 which is incompatible.\n",
            "datascience 0.10.6 requires folium==0.2.1, but you have folium 0.8.3 which is incompatible.\u001b[0m\n",
            "Successfully installed requests-2.27.1\n"
          ]
        }
      ],
      "source": [
        "pip install --upgrade requests"
      ]
    },
    {
      "cell_type": "code",
      "execution_count": 5,
      "metadata": {
        "colab": {
          "base_uri": "https://localhost:8080/"
        },
        "id": "XfKBQMx4a9OM",
        "outputId": "f781101d-2d36-4e2a-944e-d986c61b8b32"
      },
      "outputs": [
        {
          "output_type": "stream",
          "name": "stdout",
          "text": [
            "\r0% [Working]\r            \rGet:1 https://cloud.r-project.org/bin/linux/ubuntu bionic-cran40/ InRelease [3,626 B]\n",
            "\r0% [Connecting to archive.ubuntu.com (91.189.88.152)] [Waiting for headers] [1 \r0% [Connecting to archive.ubuntu.com (91.189.88.152)] [Waiting for headers] [Co\r                                                                               \rIgn:2 https://developer.download.nvidia.com/compute/cuda/repos/ubuntu1804/x86_64  InRelease\n",
            "\r0% [Connecting to archive.ubuntu.com (91.189.88.152)] [Waiting for headers] [Co\r0% [1 InRelease gpgv 3,626 B] [Connecting to archive.ubuntu.com (91.189.88.152)\r                                                                               \rGet:3 http://security.ubuntu.com/ubuntu bionic-security InRelease [88.7 kB]\n",
            "\r0% [1 InRelease gpgv 3,626 B] [Connecting to archive.ubuntu.com (91.189.88.152)\r                                                                               \rIgn:4 https://developer.download.nvidia.com/compute/machine-learning/repos/ubuntu1804/x86_64  InRelease\n",
            "\r0% [1 InRelease gpgv 3,626 B] [Connecting to archive.ubuntu.com (91.189.88.152)\r                                                                               \rGet:5 https://developer.download.nvidia.com/compute/cuda/repos/ubuntu1804/x86_64  Release [696 B]\n",
            "\r0% [1 InRelease gpgv 3,626 B] [Connecting to archive.ubuntu.com (91.189.88.152)\r                                                                               \rHit:6 https://developer.download.nvidia.com/compute/machine-learning/repos/ubuntu1804/x86_64  Release\n",
            "\r0% [1 InRelease gpgv 3,626 B] [Connecting to archive.ubuntu.com (91.189.88.152)\r                                                                               \rGet:7 https://developer.download.nvidia.com/compute/cuda/repos/ubuntu1804/x86_64  Release.gpg [836 B]\n",
            "Get:8 http://ppa.launchpad.net/c2d4u.team/c2d4u4.0+/ubuntu bionic InRelease [15.9 kB]\n",
            "Hit:9 http://archive.ubuntu.com/ubuntu bionic InRelease\n",
            "Get:10 http://archive.ubuntu.com/ubuntu bionic-updates InRelease [88.7 kB]\n",
            "Hit:11 http://ppa.launchpad.net/cran/libgit2/ubuntu bionic InRelease\n",
            "Get:13 http://archive.ubuntu.com/ubuntu bionic-backports InRelease [74.6 kB]\n",
            "Hit:14 http://ppa.launchpad.net/deadsnakes/ppa/ubuntu bionic InRelease\n",
            "Get:15 https://developer.download.nvidia.com/compute/cuda/repos/ubuntu1804/x86_64  Packages [917 kB]\n",
            "Get:16 http://ppa.launchpad.net/graphics-drivers/ppa/ubuntu bionic InRelease [21.3 kB]\n",
            "Get:17 http://security.ubuntu.com/ubuntu bionic-security/main amd64 Packages [2,561 kB]\n",
            "Get:18 http://security.ubuntu.com/ubuntu bionic-security/multiverse amd64 Packages [21.1 kB]\n",
            "Get:19 http://security.ubuntu.com/ubuntu bionic-security/universe amd64 Packages [1,468 kB]\n",
            "Get:20 http://security.ubuntu.com/ubuntu bionic-security/restricted amd64 Packages [781 kB]\n",
            "Get:21 http://ppa.launchpad.net/c2d4u.team/c2d4u4.0+/ubuntu bionic/main Sources [1,825 kB]\n",
            "Get:22 http://archive.ubuntu.com/ubuntu bionic-updates/restricted amd64 Packages [816 kB]\n",
            "Get:23 http://archive.ubuntu.com/ubuntu bionic-updates/multiverse amd64 Packages [29.0 kB]\n",
            "Get:24 http://archive.ubuntu.com/ubuntu bionic-updates/universe amd64 Packages [2,247 kB]\n",
            "Get:25 http://ppa.launchpad.net/c2d4u.team/c2d4u4.0+/ubuntu bionic/main amd64 Packages [935 kB]\n",
            "Get:26 http://archive.ubuntu.com/ubuntu bionic-updates/main amd64 Packages [3,002 kB]\n",
            "Get:27 http://ppa.launchpad.net/graphics-drivers/ppa/ubuntu bionic/main amd64 Packages [42.8 kB]\n",
            "Fetched 14.9 MB in 5s (3,001 kB/s)\n",
            "Reading package lists... Done\n",
            "Reading package lists... Done\n",
            "Building dependency tree       \n",
            "Reading state information... Done\n",
            "The following packages were automatically installed and are no longer required:\n",
            "  cuda-command-line-tools-10-0 cuda-command-line-tools-10-1\n",
            "  cuda-command-line-tools-11-0 cuda-compiler-10-0 cuda-compiler-10-1\n",
            "  cuda-compiler-11-0 cuda-cuobjdump-10-0 cuda-cuobjdump-10-1\n",
            "  cuda-cuobjdump-11-0 cuda-cupti-10-0 cuda-cupti-10-1 cuda-cupti-11-0\n",
            "  cuda-cupti-dev-11-0 cuda-documentation-10-0 cuda-documentation-10-1\n",
            "  cuda-documentation-11-0 cuda-documentation-11-1 cuda-gdb-10-0 cuda-gdb-10-1\n",
            "  cuda-gdb-11-0 cuda-gpu-library-advisor-10-0 cuda-gpu-library-advisor-10-1\n",
            "  cuda-libraries-10-0 cuda-libraries-10-1 cuda-libraries-11-0\n",
            "  cuda-memcheck-10-0 cuda-memcheck-10-1 cuda-memcheck-11-0 cuda-nsight-10-0\n",
            "  cuda-nsight-10-1 cuda-nsight-11-0 cuda-nsight-11-1 cuda-nsight-compute-10-0\n",
            "  cuda-nsight-compute-10-1 cuda-nsight-compute-11-0 cuda-nsight-compute-11-1\n",
            "  cuda-nsight-systems-10-1 cuda-nsight-systems-11-0 cuda-nsight-systems-11-1\n",
            "  cuda-nvcc-10-0 cuda-nvcc-10-1 cuda-nvcc-11-0 cuda-nvdisasm-10-0\n",
            "  cuda-nvdisasm-10-1 cuda-nvdisasm-11-0 cuda-nvml-dev-10-0 cuda-nvml-dev-10-1\n",
            "  cuda-nvml-dev-11-0 cuda-nvprof-10-0 cuda-nvprof-10-1 cuda-nvprof-11-0\n",
            "  cuda-nvprune-10-0 cuda-nvprune-10-1 cuda-nvprune-11-0 cuda-nvtx-10-0\n",
            "  cuda-nvtx-10-1 cuda-nvtx-11-0 cuda-nvvp-10-0 cuda-nvvp-10-1 cuda-nvvp-11-0\n",
            "  cuda-nvvp-11-1 cuda-samples-10-0 cuda-samples-10-1 cuda-samples-11-0\n",
            "  cuda-samples-11-1 cuda-sanitizer-11-0 cuda-sanitizer-api-10-1\n",
            "  cuda-toolkit-10-0 cuda-toolkit-10-1 cuda-toolkit-11-0 cuda-toolkit-11-1\n",
            "  cuda-tools-10-0 cuda-tools-10-1 cuda-tools-11-0 cuda-tools-11-1\n",
            "  cuda-visual-tools-10-0 cuda-visual-tools-10-1 cuda-visual-tools-11-0\n",
            "  cuda-visual-tools-11-1 default-jre dkms freeglut3 freeglut3-dev\n",
            "  keyboard-configuration libargon2-0 libcap2 libcryptsetup12\n",
            "  libdevmapper1.02.1 libfontenc1 libidn11 libip4tc0 libjansson4\n",
            "  libnvidia-cfg1-510 libnvidia-common-460 libnvidia-common-510\n",
            "  libnvidia-extra-510 libnvidia-fbc1-510 libnvidia-gl-510 libpam-systemd\n",
            "  libpolkit-agent-1-0 libpolkit-backend-1-0 libpolkit-gobject-1-0 libxfont2\n",
            "  libxi-dev libxkbfile1 libxmu-dev libxmu-headers libxnvctrl0\n",
            "  nsight-compute-2020.2.1 nsight-compute-2022.1.0 nsight-systems-2020.3.2\n",
            "  nsight-systems-2020.3.4 nsight-systems-2021.5.2 nvidia-dkms-510\n",
            "  nvidia-kernel-common-510 nvidia-kernel-source-510 nvidia-modprobe\n",
            "  nvidia-settings openjdk-11-jre policykit-1 policykit-1-gnome python3-xkit\n",
            "  screen-resolution-extra systemd systemd-sysv udev x11-xkb-utils\n",
            "  xserver-common xserver-xorg-core-hwe-18.04 xserver-xorg-video-nvidia-510\n",
            "Use 'apt autoremove' to remove them.\n",
            "The following additional packages will be installed:\n",
            "  chromium-browser chromium-browser-l10n chromium-codecs-ffmpeg-extra\n",
            "Suggested packages:\n",
            "  webaccounts-chromium-extension unity-chromium-extension\n",
            "The following NEW packages will be installed:\n",
            "  chromium-browser chromium-browser-l10n chromium-chromedriver\n",
            "  chromium-codecs-ffmpeg-extra\n",
            "0 upgraded, 4 newly installed, 0 to remove and 62 not upgraded.\n",
            "Need to get 95.3 MB of archives.\n",
            "After this operation, 327 MB of additional disk space will be used.\n",
            "Get:1 http://archive.ubuntu.com/ubuntu bionic-updates/universe amd64 chromium-codecs-ffmpeg-extra amd64 97.0.4692.71-0ubuntu0.18.04.1 [1,142 kB]\n",
            "Get:2 http://archive.ubuntu.com/ubuntu bionic-updates/universe amd64 chromium-browser amd64 97.0.4692.71-0ubuntu0.18.04.1 [84.7 MB]\n",
            "Get:3 http://archive.ubuntu.com/ubuntu bionic-updates/universe amd64 chromium-browser-l10n all 97.0.4692.71-0ubuntu0.18.04.1 [4,370 kB]\n",
            "Get:4 http://archive.ubuntu.com/ubuntu bionic-updates/universe amd64 chromium-chromedriver amd64 97.0.4692.71-0ubuntu0.18.04.1 [5,055 kB]\n",
            "Fetched 95.3 MB in 6s (14.8 MB/s)\n",
            "Selecting previously unselected package chromium-codecs-ffmpeg-extra.\n",
            "(Reading database ... 155113 files and directories currently installed.)\n",
            "Preparing to unpack .../chromium-codecs-ffmpeg-extra_97.0.4692.71-0ubuntu0.18.04.1_amd64.deb ...\n",
            "Unpacking chromium-codecs-ffmpeg-extra (97.0.4692.71-0ubuntu0.18.04.1) ...\n",
            "Selecting previously unselected package chromium-browser.\n",
            "Preparing to unpack .../chromium-browser_97.0.4692.71-0ubuntu0.18.04.1_amd64.deb ...\n",
            "Unpacking chromium-browser (97.0.4692.71-0ubuntu0.18.04.1) ...\n",
            "Selecting previously unselected package chromium-browser-l10n.\n",
            "Preparing to unpack .../chromium-browser-l10n_97.0.4692.71-0ubuntu0.18.04.1_all.deb ...\n",
            "Unpacking chromium-browser-l10n (97.0.4692.71-0ubuntu0.18.04.1) ...\n",
            "Selecting previously unselected package chromium-chromedriver.\n",
            "Preparing to unpack .../chromium-chromedriver_97.0.4692.71-0ubuntu0.18.04.1_amd64.deb ...\n",
            "Unpacking chromium-chromedriver (97.0.4692.71-0ubuntu0.18.04.1) ...\n",
            "Setting up chromium-codecs-ffmpeg-extra (97.0.4692.71-0ubuntu0.18.04.1) ...\n",
            "Setting up chromium-browser (97.0.4692.71-0ubuntu0.18.04.1) ...\n",
            "update-alternatives: using /usr/bin/chromium-browser to provide /usr/bin/x-www-browser (x-www-browser) in auto mode\n",
            "update-alternatives: using /usr/bin/chromium-browser to provide /usr/bin/gnome-www-browser (gnome-www-browser) in auto mode\n",
            "Setting up chromium-chromedriver (97.0.4692.71-0ubuntu0.18.04.1) ...\n",
            "Setting up chromium-browser-l10n (97.0.4692.71-0ubuntu0.18.04.1) ...\n",
            "Processing triggers for man-db (2.8.3-2ubuntu0.1) ...\n",
            "Processing triggers for hicolor-icon-theme (0.17-2) ...\n",
            "Processing triggers for mime-support (3.60ubuntu1) ...\n",
            "Processing triggers for libc-bin (2.27-3ubuntu1.3) ...\n",
            "/sbin/ldconfig.real: /usr/local/lib/python3.7/dist-packages/ideep4py/lib/libmkldnn.so.0 is not a symbolic link\n",
            "\n"
          ]
        }
      ],
      "source": [
        "!apt-get update # to update ubuntu to correctly run apt install\n",
        "!apt install chromium-chromedriver"
      ]
    },
    {
      "cell_type": "code",
      "execution_count": 2,
      "metadata": {
        "id": "jxeamEMXbBXU"
      },
      "outputs": [],
      "source": [
        "from bs4 import BeautifulSoup\n",
        "from selenium import webdriver\n",
        "from webdriver_manager.chrome import ChromeDriverManager\n",
        "from webdriver_manager.utils import ChromeType\n",
        "from selenium.webdriver.common.by import By\n",
        "from selenium.webdriver.chrome.service import Service\n",
        "chrome_options = webdriver.ChromeOptions()\n",
        "chrome_options.add_argument('--headless')\n",
        "chrome_options.add_argument('--no-sandbox')\n",
        "chrome_options.add_argument('--disable-dev-shm-usage')\n",
        "driver = webdriver.Chrome('chromedriver',options=chrome_options)"
      ]
    },
    {
      "cell_type": "code",
      "execution_count": null,
      "metadata": {
        "id": "F7lcEdOObFoS"
      },
      "outputs": [],
      "source": [
        "import time\n",
        "from selenium.webdriver.support.ui import WebDriverWait\n",
        "from selenium.webdriver.common.by import By\n",
        "from selenium.webdriver.support import expected_conditions as EC\n",
        "driver.get(\"https://www.99.co/singapore/sale/hdb\")\n",
        "page_source=[]\n",
        "button = []\n",
        "links=[]\n",
        "count = 0\n",
        "while True:\n",
        "  soup = BeautifulSoup(driver.page_source, 'lxml')\n",
        "  time.sleep(3)\n",
        "  linkclass = soup.find_all('a', class_='_3Ajbv _30I97 _1vzK2')\n",
        "  for l in linkclass:\n",
        "    links.append(l['href'])\n",
        "  nextbutton = \"https://www.99.co\" + soup.find('li', class_='next').find('a')['href']\n",
        "  button.append(nextbutton)\n",
        "  driver.get(nextbutton)\n",
        "  time.sleep(5)\n",
        "  break\n",
        "  count+=1\n",
        "  if count==4:\n",
        "    break\n",
        "\n",
        "for link in links:\n",
        "      driver.get(\"https://www.99.co\" + link)\n",
        "      page_source.append(BeautifulSoup(driver.page_source,'lxml')) "
      ]
    },
    {
      "cell_type": "code",
      "source": [
        "soup.find('li', class_='next').find('a')['href']"
      ],
      "metadata": {
        "colab": {
          "base_uri": "https://localhost:8080/",
          "height": 35
        },
        "id": "VUsgPUwrptwd",
        "outputId": "12608719-b2e4-4a4f-920a-68df333ea30c"
      },
      "execution_count": 4,
      "outputs": [
        {
          "output_type": "execute_result",
          "data": {
            "application/vnd.google.colaboratory.intrinsic+json": {
              "type": "string"
            },
            "text/plain": [
              "'/singapore/sale/hdb?page_num=2'"
            ]
          },
          "metadata": {},
          "execution_count": 4
        }
      ]
    },
    {
      "cell_type": "code",
      "source": [
        "nextbutton"
      ],
      "metadata": {
        "colab": {
          "base_uri": "https://localhost:8080/",
          "height": 35
        },
        "id": "XcYRqOyAokP9",
        "outputId": "95a4579d-ed6a-4c0d-e960-5f771c9d4ec4"
      },
      "execution_count": 10,
      "outputs": [
        {
          "output_type": "execute_result",
          "data": {
            "application/vnd.google.colaboratory.intrinsic+json": {
              "type": "string"
            },
            "text/plain": [
              "'https://www.99.co/singapore/sale/hdb?page_num=3'"
            ]
          },
          "metadata": {},
          "execution_count": 10
        }
      ]
    },
    {
      "cell_type": "code",
      "source": [
        "import re\n",
        "import pandas as pd\n",
        "\n",
        "data = {'price':  [],\n",
        "        'location': [],\n",
        "        'bedrooms':[],\n",
        "        'bathroom':[],\n",
        "        'sqrf':[],\n",
        "        'distance':[]\n",
        "        }\n",
        "\n",
        "df = pd.DataFrame(data)\n",
        "\n",
        "pd.set_option('display.max_columns', None)\n",
        "pd.set_option('display.max_rows', None)\n",
        "\n",
        "for page in page_source:\n",
        "  dis = page.find('div',class_='UUAXj')\n",
        "  if dis is not None:\n",
        "    distance = int(dis.find('p',class_='_2sIc2 _2rhE- _1c-pJ').find('span').get_text().split(' ', 1)[0])\n",
        "  else:\n",
        "    distance = 0\n",
        "  p = int(re.sub('[,]', '', page.find('h2',class_='_1zGm8 _3na6W _1vzK2').get_text()[1:]))\n",
        "  l = page.find('p',class_='dniCg _3j72o _2rhE-').find('span').get_text()[1:]\n",
        "  bbs = page.find_all('p',class_='_2sIc2 _29qfj _2rhE-')\n",
        "  b = bbs[0].get_text()\n",
        "  ba = bbs[1].get_text()\n",
        "  s = int(re.sub('[,]', '',bbs[2].get_text()[:-5]))\n",
        "  df=df.append( {'price':p, 'location':l, 'bedrooms':b, 'bathroom':ba, 'sqrf': s, 'distance':distance}, ignore_index=True)"
      ],
      "metadata": {
        "id": "N3lHRaxN3YQu"
      },
      "execution_count": 23,
      "outputs": []
    },
    {
      "cell_type": "code",
      "source": [
        "df\n"
      ],
      "metadata": {
        "colab": {
          "base_uri": "https://localhost:8080/",
          "height": 1000
        },
        "id": "eWzFVG8IpjMM",
        "outputId": "34b8d9b8-c1e0-4c41-858a-b5af60b5bbf0"
      },
      "execution_count": 20,
      "outputs": [
        {
          "output_type": "execute_result",
          "data": {
            "text/html": [
              "\n",
              "  <div id=\"df-d6313d15-c03c-4b0d-a038-7fe457c2e0f3\">\n",
              "    <div class=\"colab-df-container\">\n",
              "      <div>\n",
              "<style scoped>\n",
              "    .dataframe tbody tr th:only-of-type {\n",
              "        vertical-align: middle;\n",
              "    }\n",
              "\n",
              "    .dataframe tbody tr th {\n",
              "        vertical-align: top;\n",
              "    }\n",
              "\n",
              "    .dataframe thead th {\n",
              "        text-align: right;\n",
              "    }\n",
              "</style>\n",
              "<table border=\"1\" class=\"dataframe\">\n",
              "  <thead>\n",
              "    <tr style=\"text-align: right;\">\n",
              "      <th></th>\n",
              "      <th>price</th>\n",
              "      <th>location</th>\n",
              "      <th>bedrooms</th>\n",
              "      <th>bathroom</th>\n",
              "      <th>sqrf</th>\n",
              "      <th>distance</th>\n",
              "    </tr>\n",
              "  </thead>\n",
              "  <tbody>\n",
              "    <tr>\n",
              "      <th>0</th>\n",
              "      <td>620000.0</td>\n",
              "      <td>Ang Mo Kio / Bishan / Thomson (D20)</td>\n",
              "      <td>3 Beds</td>\n",
              "      <td>2 Baths</td>\n",
              "      <td>1141.0</td>\n",
              "      <td>15</td>\n",
              "    </tr>\n",
              "    <tr>\n",
              "      <th>1</th>\n",
              "      <td>580000.0</td>\n",
              "      <td>Balestier / Toa Payoh (D12)</td>\n",
              "      <td>2 Beds</td>\n",
              "      <td>2 Baths</td>\n",
              "      <td>721.0</td>\n",
              "      <td>20</td>\n",
              "    </tr>\n",
              "    <tr>\n",
              "      <th>2</th>\n",
              "      <td>520000.0</td>\n",
              "      <td>Pasir Ris / Tampines (D18)</td>\n",
              "      <td>3 Beds</td>\n",
              "      <td>2 Baths</td>\n",
              "      <td>1130.0</td>\n",
              "      <td>25</td>\n",
              "    </tr>\n",
              "    <tr>\n",
              "      <th>3</th>\n",
              "      <td>799000.0</td>\n",
              "      <td>Boon Lay / Jurong / Tuas (D22)</td>\n",
              "      <td>3 Beds</td>\n",
              "      <td>2 Baths</td>\n",
              "      <td>1302.0</td>\n",
              "      <td>20</td>\n",
              "    </tr>\n",
              "    <tr>\n",
              "      <th>4</th>\n",
              "      <td>868000.0</td>\n",
              "      <td>Ang Mo Kio / Bishan / Thomson (D20)</td>\n",
              "      <td>3 Beds</td>\n",
              "      <td>2 Baths</td>\n",
              "      <td>1000.0</td>\n",
              "      <td>10</td>\n",
              "    </tr>\n",
              "    <tr>\n",
              "      <th>5</th>\n",
              "      <td>835000.0</td>\n",
              "      <td>Hougang / Punggol / Sengkang (D19)</td>\n",
              "      <td>4 Beds</td>\n",
              "      <td>3 Baths</td>\n",
              "      <td>1636.0</td>\n",
              "      <td>10</td>\n",
              "    </tr>\n",
              "    <tr>\n",
              "      <th>6</th>\n",
              "      <td>508000.0</td>\n",
              "      <td>Bukit Batok / Bukit Panjang / Choa Chu Kang (D23)</td>\n",
              "      <td>3 Beds</td>\n",
              "      <td>2 Baths</td>\n",
              "      <td>1119.0</td>\n",
              "      <td>15</td>\n",
              "    </tr>\n",
              "    <tr>\n",
              "      <th>7</th>\n",
              "      <td>620000.0</td>\n",
              "      <td>Pasir Ris / Tampines (D18)</td>\n",
              "      <td>3 Beds</td>\n",
              "      <td>2 Baths</td>\n",
              "      <td>1377.0</td>\n",
              "      <td>Nil</td>\n",
              "    </tr>\n",
              "    <tr>\n",
              "      <th>8</th>\n",
              "      <td>580000.0</td>\n",
              "      <td>Hougang / Punggol / Sengkang (D19)</td>\n",
              "      <td>3 Beds</td>\n",
              "      <td>2 Baths</td>\n",
              "      <td>1227.0</td>\n",
              "      <td>5</td>\n",
              "    </tr>\n",
              "    <tr>\n",
              "      <th>9</th>\n",
              "      <td>760000.0</td>\n",
              "      <td>Bukit Batok / Bukit Panjang / Choa Chu Kang (D23)</td>\n",
              "      <td>4 Beds</td>\n",
              "      <td>2 Baths</td>\n",
              "      <td>1561.0</td>\n",
              "      <td>5</td>\n",
              "    </tr>\n",
              "    <tr>\n",
              "      <th>10</th>\n",
              "      <td>698000.0</td>\n",
              "      <td>Boon Lay / Jurong / Tuas (D22)</td>\n",
              "      <td>3 Beds</td>\n",
              "      <td>2 Baths</td>\n",
              "      <td>1292.0</td>\n",
              "      <td>15</td>\n",
              "    </tr>\n",
              "    <tr>\n",
              "      <th>11</th>\n",
              "      <td>488000.0</td>\n",
              "      <td>Boon Lay / Jurong / Tuas (D22)</td>\n",
              "      <td>3 Beds</td>\n",
              "      <td>2 Baths</td>\n",
              "      <td>1000.0</td>\n",
              "      <td>15</td>\n",
              "    </tr>\n",
              "    <tr>\n",
              "      <th>12</th>\n",
              "      <td>1398888.0</td>\n",
              "      <td>Chinatown / Tanjong Pagar (D2)</td>\n",
              "      <td>3 Beds</td>\n",
              "      <td>2 Baths</td>\n",
              "      <td>1130.0</td>\n",
              "      <td>15</td>\n",
              "    </tr>\n",
              "    <tr>\n",
              "      <th>13</th>\n",
              "      <td>678000.0</td>\n",
              "      <td>Hougang / Punggol / Sengkang (D19)</td>\n",
              "      <td>3 Beds</td>\n",
              "      <td>2 Baths</td>\n",
              "      <td>1216.0</td>\n",
              "      <td>5</td>\n",
              "    </tr>\n",
              "    <tr>\n",
              "      <th>14</th>\n",
              "      <td>500000.0</td>\n",
              "      <td>Admiralty / Woodlands (D25)</td>\n",
              "      <td>3 Beds</td>\n",
              "      <td>2 Baths</td>\n",
              "      <td>1076.0</td>\n",
              "      <td>10</td>\n",
              "    </tr>\n",
              "    <tr>\n",
              "      <th>15</th>\n",
              "      <td>520000.0</td>\n",
              "      <td>Admiralty / Woodlands (D25)</td>\n",
              "      <td>3 Beds</td>\n",
              "      <td>2 Baths</td>\n",
              "      <td>1184.0</td>\n",
              "      <td>15</td>\n",
              "    </tr>\n",
              "    <tr>\n",
              "      <th>16</th>\n",
              "      <td>350000.0</td>\n",
              "      <td>Harbourfront / Telok Blangah (D4)</td>\n",
              "      <td>2 Beds</td>\n",
              "      <td>1 Bath</td>\n",
              "      <td>635.0</td>\n",
              "      <td>15</td>\n",
              "    </tr>\n",
              "    <tr>\n",
              "      <th>17</th>\n",
              "      <td>590000.0</td>\n",
              "      <td>Hougang / Punggol / Sengkang (D19)</td>\n",
              "      <td>3 Beds</td>\n",
              "      <td>2 Baths</td>\n",
              "      <td>1001.0</td>\n",
              "      <td>15</td>\n",
              "    </tr>\n",
              "    <tr>\n",
              "      <th>18</th>\n",
              "      <td>740000.0</td>\n",
              "      <td>Alexandra / Commonwealth (D3)</td>\n",
              "      <td>3 Beds</td>\n",
              "      <td>3 Baths</td>\n",
              "      <td>893.0</td>\n",
              "      <td>10</td>\n",
              "    </tr>\n",
              "    <tr>\n",
              "      <th>19</th>\n",
              "      <td>688000.0</td>\n",
              "      <td>Sembawang / Yishun (D27)</td>\n",
              "      <td>3 Beds</td>\n",
              "      <td>2 Baths</td>\n",
              "      <td>1291.0</td>\n",
              "      <td>Nil</td>\n",
              "    </tr>\n",
              "    <tr>\n",
              "      <th>20</th>\n",
              "      <td>820000.0</td>\n",
              "      <td>Boon Lay / Jurong / Tuas (D22)</td>\n",
              "      <td>3 Beds</td>\n",
              "      <td>2 Baths</td>\n",
              "      <td>1335.0</td>\n",
              "      <td>5</td>\n",
              "    </tr>\n",
              "    <tr>\n",
              "      <th>21</th>\n",
              "      <td>520000.0</td>\n",
              "      <td>Pasir Ris / Tampines (D18)</td>\n",
              "      <td>3 Beds</td>\n",
              "      <td>2 Baths</td>\n",
              "      <td>1119.0</td>\n",
              "      <td>Nil</td>\n",
              "    </tr>\n",
              "    <tr>\n",
              "      <th>22</th>\n",
              "      <td>599999.0</td>\n",
              "      <td>Pasir Ris / Tampines (D18)</td>\n",
              "      <td>3 Beds</td>\n",
              "      <td>2 Baths</td>\n",
              "      <td>1302.0</td>\n",
              "      <td>15</td>\n",
              "    </tr>\n",
              "    <tr>\n",
              "      <th>23</th>\n",
              "      <td>488000.0</td>\n",
              "      <td>Ang Mo Kio / Bishan / Thomson (D20)</td>\n",
              "      <td>2 Beds</td>\n",
              "      <td>2 Baths</td>\n",
              "      <td>721.0</td>\n",
              "      <td>15</td>\n",
              "    </tr>\n",
              "    <tr>\n",
              "      <th>24</th>\n",
              "      <td>650000.0</td>\n",
              "      <td>Ang Mo Kio / Bishan / Thomson (D20)</td>\n",
              "      <td>3 Beds</td>\n",
              "      <td>3 Baths</td>\n",
              "      <td>1022.0</td>\n",
              "      <td>15</td>\n",
              "    </tr>\n",
              "    <tr>\n",
              "      <th>25</th>\n",
              "      <td>390000.0</td>\n",
              "      <td>East Coast / Marine Parade (D15)</td>\n",
              "      <td>3 Beds</td>\n",
              "      <td>1 Bath</td>\n",
              "      <td>818.0</td>\n",
              "      <td>20</td>\n",
              "    </tr>\n",
              "    <tr>\n",
              "      <th>26</th>\n",
              "      <td>535000.0</td>\n",
              "      <td>Bukit Batok / Bukit Panjang / Choa Chu Kang (D23)</td>\n",
              "      <td>3 Beds</td>\n",
              "      <td>2 Baths</td>\n",
              "      <td>979.0</td>\n",
              "      <td>5</td>\n",
              "    </tr>\n",
              "    <tr>\n",
              "      <th>27</th>\n",
              "      <td>588000.0</td>\n",
              "      <td>Admiralty / Woodlands (D25)</td>\n",
              "      <td>3 Beds</td>\n",
              "      <td>2 Baths</td>\n",
              "      <td>1324.0</td>\n",
              "      <td>20</td>\n",
              "    </tr>\n",
              "    <tr>\n",
              "      <th>28</th>\n",
              "      <td>1742000.0</td>\n",
              "      <td>Chinatown / Tanjong Pagar (D2)</td>\n",
              "      <td>2 Beds</td>\n",
              "      <td>3 Baths</td>\n",
              "      <td>1367.0</td>\n",
              "      <td>10</td>\n",
              "    </tr>\n",
              "    <tr>\n",
              "      <th>29</th>\n",
              "      <td>795000.0</td>\n",
              "      <td>Balestier / Toa Payoh (D12)</td>\n",
              "      <td>3 Beds</td>\n",
              "      <td>2 Baths</td>\n",
              "      <td>1000.0</td>\n",
              "      <td>25</td>\n",
              "    </tr>\n",
              "    <tr>\n",
              "      <th>30</th>\n",
              "      <td>698000.0</td>\n",
              "      <td>Hougang / Punggol / Sengkang (D19)</td>\n",
              "      <td>3 Beds</td>\n",
              "      <td>2 Baths</td>\n",
              "      <td>93.0</td>\n",
              "      <td>15</td>\n",
              "    </tr>\n",
              "    <tr>\n",
              "      <th>31</th>\n",
              "      <td>848888.0</td>\n",
              "      <td>Alexandra / Commonwealth (D3)</td>\n",
              "      <td>3 Beds</td>\n",
              "      <td>2 Baths</td>\n",
              "      <td>1001.0</td>\n",
              "      <td>15</td>\n",
              "    </tr>\n",
              "    <tr>\n",
              "      <th>32</th>\n",
              "      <td>638888.0</td>\n",
              "      <td>Bukit Batok / Bukit Panjang / Choa Chu Kang (D23)</td>\n",
              "      <td>3 Beds</td>\n",
              "      <td>2 Baths</td>\n",
              "      <td>1216.0</td>\n",
              "      <td>15</td>\n",
              "    </tr>\n",
              "    <tr>\n",
              "      <th>33</th>\n",
              "      <td>748000.0</td>\n",
              "      <td>Eunos / Geylang / Paya Lebar (D14)</td>\n",
              "      <td>3 Beds</td>\n",
              "      <td>2 Baths</td>\n",
              "      <td>970.0</td>\n",
              "      <td>5</td>\n",
              "    </tr>\n",
              "  </tbody>\n",
              "</table>\n",
              "</div>\n",
              "      <button class=\"colab-df-convert\" onclick=\"convertToInteractive('df-d6313d15-c03c-4b0d-a038-7fe457c2e0f3')\"\n",
              "              title=\"Convert this dataframe to an interactive table.\"\n",
              "              style=\"display:none;\">\n",
              "        \n",
              "  <svg xmlns=\"http://www.w3.org/2000/svg\" height=\"24px\"viewBox=\"0 0 24 24\"\n",
              "       width=\"24px\">\n",
              "    <path d=\"M0 0h24v24H0V0z\" fill=\"none\"/>\n",
              "    <path d=\"M18.56 5.44l.94 2.06.94-2.06 2.06-.94-2.06-.94-.94-2.06-.94 2.06-2.06.94zm-11 1L8.5 8.5l.94-2.06 2.06-.94-2.06-.94L8.5 2.5l-.94 2.06-2.06.94zm10 10l.94 2.06.94-2.06 2.06-.94-2.06-.94-.94-2.06-.94 2.06-2.06.94z\"/><path d=\"M17.41 7.96l-1.37-1.37c-.4-.4-.92-.59-1.43-.59-.52 0-1.04.2-1.43.59L10.3 9.45l-7.72 7.72c-.78.78-.78 2.05 0 2.83L4 21.41c.39.39.9.59 1.41.59.51 0 1.02-.2 1.41-.59l7.78-7.78 2.81-2.81c.8-.78.8-2.07 0-2.86zM5.41 20L4 18.59l7.72-7.72 1.47 1.35L5.41 20z\"/>\n",
              "  </svg>\n",
              "      </button>\n",
              "      \n",
              "  <style>\n",
              "    .colab-df-container {\n",
              "      display:flex;\n",
              "      flex-wrap:wrap;\n",
              "      gap: 12px;\n",
              "    }\n",
              "\n",
              "    .colab-df-convert {\n",
              "      background-color: #E8F0FE;\n",
              "      border: none;\n",
              "      border-radius: 50%;\n",
              "      cursor: pointer;\n",
              "      display: none;\n",
              "      fill: #1967D2;\n",
              "      height: 32px;\n",
              "      padding: 0 0 0 0;\n",
              "      width: 32px;\n",
              "    }\n",
              "\n",
              "    .colab-df-convert:hover {\n",
              "      background-color: #E2EBFA;\n",
              "      box-shadow: 0px 1px 2px rgba(60, 64, 67, 0.3), 0px 1px 3px 1px rgba(60, 64, 67, 0.15);\n",
              "      fill: #174EA6;\n",
              "    }\n",
              "\n",
              "    [theme=dark] .colab-df-convert {\n",
              "      background-color: #3B4455;\n",
              "      fill: #D2E3FC;\n",
              "    }\n",
              "\n",
              "    [theme=dark] .colab-df-convert:hover {\n",
              "      background-color: #434B5C;\n",
              "      box-shadow: 0px 1px 3px 1px rgba(0, 0, 0, 0.15);\n",
              "      filter: drop-shadow(0px 1px 2px rgba(0, 0, 0, 0.3));\n",
              "      fill: #FFFFFF;\n",
              "    }\n",
              "  </style>\n",
              "\n",
              "      <script>\n",
              "        const buttonEl =\n",
              "          document.querySelector('#df-d6313d15-c03c-4b0d-a038-7fe457c2e0f3 button.colab-df-convert');\n",
              "        buttonEl.style.display =\n",
              "          google.colab.kernel.accessAllowed ? 'block' : 'none';\n",
              "\n",
              "        async function convertToInteractive(key) {\n",
              "          const element = document.querySelector('#df-d6313d15-c03c-4b0d-a038-7fe457c2e0f3');\n",
              "          const dataTable =\n",
              "            await google.colab.kernel.invokeFunction('convertToInteractive',\n",
              "                                                     [key], {});\n",
              "          if (!dataTable) return;\n",
              "\n",
              "          const docLinkHtml = 'Like what you see? Visit the ' +\n",
              "            '<a target=\"_blank\" href=https://colab.research.google.com/notebooks/data_table.ipynb>data table notebook</a>'\n",
              "            + ' to learn more about interactive tables.';\n",
              "          element.innerHTML = '';\n",
              "          dataTable['output_type'] = 'display_data';\n",
              "          await google.colab.output.renderOutput(dataTable, element);\n",
              "          const docLink = document.createElement('div');\n",
              "          docLink.innerHTML = docLinkHtml;\n",
              "          element.appendChild(docLink);\n",
              "        }\n",
              "      </script>\n",
              "    </div>\n",
              "  </div>\n",
              "  "
            ],
            "text/plain": [
              "        price                                           location bedrooms  \\\n",
              "0    620000.0                Ang Mo Kio / Bishan / Thomson (D20)   3 Beds   \n",
              "1    580000.0                        Balestier / Toa Payoh (D12)   2 Beds   \n",
              "2    520000.0                         Pasir Ris / Tampines (D18)   3 Beds   \n",
              "3    799000.0                     Boon Lay / Jurong / Tuas (D22)   3 Beds   \n",
              "4    868000.0                Ang Mo Kio / Bishan / Thomson (D20)   3 Beds   \n",
              "5    835000.0                 Hougang / Punggol / Sengkang (D19)   4 Beds   \n",
              "6    508000.0  Bukit Batok / Bukit Panjang / Choa Chu Kang (D23)   3 Beds   \n",
              "7    620000.0                         Pasir Ris / Tampines (D18)   3 Beds   \n",
              "8    580000.0                 Hougang / Punggol / Sengkang (D19)   3 Beds   \n",
              "9    760000.0  Bukit Batok / Bukit Panjang / Choa Chu Kang (D23)   4 Beds   \n",
              "10   698000.0                     Boon Lay / Jurong / Tuas (D22)   3 Beds   \n",
              "11   488000.0                     Boon Lay / Jurong / Tuas (D22)   3 Beds   \n",
              "12  1398888.0                     Chinatown / Tanjong Pagar (D2)   3 Beds   \n",
              "13   678000.0                 Hougang / Punggol / Sengkang (D19)   3 Beds   \n",
              "14   500000.0                        Admiralty / Woodlands (D25)   3 Beds   \n",
              "15   520000.0                        Admiralty / Woodlands (D25)   3 Beds   \n",
              "16   350000.0                  Harbourfront / Telok Blangah (D4)   2 Beds   \n",
              "17   590000.0                 Hougang / Punggol / Sengkang (D19)   3 Beds   \n",
              "18   740000.0                      Alexandra / Commonwealth (D3)   3 Beds   \n",
              "19   688000.0                           Sembawang / Yishun (D27)   3 Beds   \n",
              "20   820000.0                     Boon Lay / Jurong / Tuas (D22)   3 Beds   \n",
              "21   520000.0                         Pasir Ris / Tampines (D18)   3 Beds   \n",
              "22   599999.0                         Pasir Ris / Tampines (D18)   3 Beds   \n",
              "23   488000.0                Ang Mo Kio / Bishan / Thomson (D20)   2 Beds   \n",
              "24   650000.0                Ang Mo Kio / Bishan / Thomson (D20)   3 Beds   \n",
              "25   390000.0                   East Coast / Marine Parade (D15)   3 Beds   \n",
              "26   535000.0  Bukit Batok / Bukit Panjang / Choa Chu Kang (D23)   3 Beds   \n",
              "27   588000.0                        Admiralty / Woodlands (D25)   3 Beds   \n",
              "28  1742000.0                     Chinatown / Tanjong Pagar (D2)   2 Beds   \n",
              "29   795000.0                        Balestier / Toa Payoh (D12)   3 Beds   \n",
              "30   698000.0                 Hougang / Punggol / Sengkang (D19)   3 Beds   \n",
              "31   848888.0                      Alexandra / Commonwealth (D3)   3 Beds   \n",
              "32   638888.0  Bukit Batok / Bukit Panjang / Choa Chu Kang (D23)   3 Beds   \n",
              "33   748000.0                 Eunos / Geylang / Paya Lebar (D14)   3 Beds   \n",
              "\n",
              "   bathroom    sqrf distance  \n",
              "0   2 Baths  1141.0       15  \n",
              "1   2 Baths   721.0       20  \n",
              "2   2 Baths  1130.0       25  \n",
              "3   2 Baths  1302.0       20  \n",
              "4   2 Baths  1000.0       10  \n",
              "5   3 Baths  1636.0       10  \n",
              "6   2 Baths  1119.0       15  \n",
              "7   2 Baths  1377.0      Nil  \n",
              "8   2 Baths  1227.0        5  \n",
              "9   2 Baths  1561.0        5  \n",
              "10  2 Baths  1292.0       15  \n",
              "11  2 Baths  1000.0       15  \n",
              "12  2 Baths  1130.0       15  \n",
              "13  2 Baths  1216.0        5  \n",
              "14  2 Baths  1076.0       10  \n",
              "15  2 Baths  1184.0       15  \n",
              "16   1 Bath   635.0       15  \n",
              "17  2 Baths  1001.0       15  \n",
              "18  3 Baths   893.0       10  \n",
              "19  2 Baths  1291.0      Nil  \n",
              "20  2 Baths  1335.0        5  \n",
              "21  2 Baths  1119.0      Nil  \n",
              "22  2 Baths  1302.0       15  \n",
              "23  2 Baths   721.0       15  \n",
              "24  3 Baths  1022.0       15  \n",
              "25   1 Bath   818.0       20  \n",
              "26  2 Baths   979.0        5  \n",
              "27  2 Baths  1324.0       20  \n",
              "28  3 Baths  1367.0       10  \n",
              "29  2 Baths  1000.0       25  \n",
              "30  2 Baths    93.0       15  \n",
              "31  2 Baths  1001.0       15  \n",
              "32  2 Baths  1216.0       15  \n",
              "33  2 Baths   970.0        5  "
            ]
          },
          "metadata": {},
          "execution_count": 20
        }
      ]
    },
    {
      "cell_type": "code",
      "source": [
        "import matplotlib.pyplot as plt\n",
        "from matplotlib.pyplot import figure\n",
        "\n",
        "figure(figsize=(8, 6), dpi=80)\n",
        "plt.scatter(df['price'], df['location'])"
      ],
      "metadata": {
        "id": "NgnveUVSAYhQ",
        "outputId": "a6bdf38e-e5a0-450f-8e7d-a70472d03cba",
        "colab": {
          "base_uri": "https://localhost:8080/",
          "height": 443
        }
      },
      "execution_count": 13,
      "outputs": [
        {
          "output_type": "execute_result",
          "data": {
            "text/plain": [
              "<matplotlib.collections.PathCollection at 0x7fb28c085890>"
            ]
          },
          "metadata": {},
          "execution_count": 13
        },
        {
          "output_type": "display_data",
          "data": {
            "image/png": "[encoded data removed]",
            "text/plain": [
              "<Figure size 640x480 with 1 Axes>"
            ]
          },
          "metadata": {
            "needs_background": "light"
          }
        }
      ]
    },
    {
      "cell_type": "code",
      "source": [
        "figure(figsize=(8, 6), dpi=80)\n",
        "plt.scatter(df['price'], df['bedrooms'])"
      ],
      "metadata": {
        "id": "CUPK_TsdF4CL",
        "outputId": "def5fa8d-a7ac-43ce-f3ca-669d47e3591f",
        "colab": {
          "base_uri": "https://localhost:8080/",
          "height": 443
        }
      },
      "execution_count": null,
      "outputs": [
        {
          "output_type": "execute_result",
          "data": {
            "text/plain": [
              "<matplotlib.collections.PathCollection at 0x7fe34d700b90>"
            ]
          },
          "metadata": {},
          "execution_count": 56
        },
        {
          "output_type": "display_data",
          "data": {
            "image/png": "[encoded data removed]",
            "text/plain": [
              "<Figure size 640x480 with 1 Axes>"
            ]
          },
          "metadata": {
            "needs_background": "light"
          }
        }
      ]
    },
    {
      "cell_type": "code",
      "source": [
        "figure(figsize=(8, 6), dpi=80)\n",
        "plt.scatter(df['price'], df['bathroom'])"
      ],
      "metadata": {
        "id": "QFk6wB5RF8f-",
        "outputId": "9a1706ad-d92f-498d-840d-d687684e819d",
        "colab": {
          "base_uri": "https://localhost:8080/",
          "height": 443
        }
      },
      "execution_count": null,
      "outputs": [
        {
          "output_type": "execute_result",
          "data": {
            "text/plain": [
              "<matplotlib.collections.PathCollection at 0x7fe34d718b90>"
            ]
          },
          "metadata": {},
          "execution_count": 57
        },
        {
          "output_type": "display_data",
          "data": {
            "image/png": "[encoded data removed]",
            "text/plain": [
              "<Figure size 640x480 with 1 Axes>"
            ]
          },
          "metadata": {
            "needs_background": "light"
          }
        }
      ]
    },
    {
      "cell_type": "code",
      "source": [
        "figure(figsize=(8, 6), dpi=80)\n",
        "plt.scatter(df['price'], df['sqrf'])"
      ],
      "metadata": {
        "id": "_LYmQj_fGBDK",
        "outputId": "5a5c80e9-5d5f-49fd-e784-2a579f08d43a",
        "colab": {
          "base_uri": "https://localhost:8080/",
          "height": 443
        }
      },
      "execution_count": null,
      "outputs": [
        {
          "output_type": "execute_result",
          "data": {
            "text/plain": [
              "<matplotlib.collections.PathCollection at 0x7fe34d50e250>"
            ]
          },
          "metadata": {},
          "execution_count": 61
        },
        {
          "output_type": "display_data",
          "data": {
            "image/png": "[encoded data removed]",
            "text/plain": [
              "<Figure size 640x480 with 1 Axes>"
            ]
          },
          "metadata": {
            "needs_background": "light"
          }
        }
      ]
    },
    {
      "cell_type": "code",
      "source": [
        "figure(figsize=(8, 6), dpi=80)\n",
        "plt.scatter(df['price'], df['distance'])"
      ],
      "metadata": {
        "colab": {
          "base_uri": "https://localhost:8080/",
          "height": 443
        },
        "id": "KcssAZe2tsv2",
        "outputId": "4fbaf603-908d-4356-9f02-55a1028ac0e7"
      },
      "execution_count": 24,
      "outputs": [
        {
          "output_type": "execute_result",
          "data": {
            "text/plain": [
              "<matplotlib.collections.PathCollection at 0x7fb28bc61310>"
            ]
          },
          "metadata": {},
          "execution_count": 24
        },
        {
          "output_type": "display_data",
          "data": {
            "image/png": "[encoded data removed]",
            "text/plain": [
              "<Figure size 640x480 with 1 Axes>"
            ]
          },
          "metadata": {
            "needs_background": "light"
          }
        }
      ]
    }
  ],
  "metadata": {
    "colab": {
      "name": "99co.ipynb",
      "provenance": [],
      "authorship_tag": "ABX9TyOBdPVrJwNVgjmWsL1dmn7q",
      "include_colab_link": true
    },
    "kernelspec": {
      "display_name": "Python 3",
      "name": "python3"
    },
    "language_info": {
      "name": "python"
    }
  },
  "nbformat": 4,
  "nbformat_minor": 0
}